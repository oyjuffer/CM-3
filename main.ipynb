{
 "cells": [
  {
   "attachments": {},
   "cell_type": "markdown",
   "metadata": {},
   "source": [
    "# Cognitive Modeling - Assignment 2\n",
    "Yorick Juffer \\\n",
    "s1993623"
   ]
  },
  {
   "attachments": {},
   "cell_type": "markdown",
   "metadata": {},
   "source": [
    "## Libraries"
   ]
  },
  {
   "cell_type": "code",
   "execution_count": 1,
   "metadata": {},
   "outputs": [],
   "source": [
    "import math\n",
    "import random\n",
    "\n",
    "from model import Model\n",
    "from dmchunk import Chunk\n",
    "\n",
    "import numpy as np\n",
    "import pandas as pd\n",
    "from matplotlib import pyplot as plt"
   ]
  },
  {
   "attachments": {},
   "cell_type": "markdown",
   "metadata": {},
   "source": [
    "## Functions"
   ]
  },
  {
   "cell_type": "code",
   "execution_count": 2,
   "metadata": {},
   "outputs": [],
   "source": [
    "t_0 = 0.011\n",
    "a = 1.1\n",
    "b = 0.015\n",
    "add_noise = True\n",
    "\n",
    "def noise(s):\n",
    "    rand = random.uniform(0.001, 0.999)\n",
    "    return s * math.log((1 - rand)/rand)\n",
    "\n",
    "def time_to_pulses(time, t_0 = t_0, a = a, b = b, add_noise = add_noise):  \n",
    "    pulses = 0\n",
    "    pulse_duration = t_0\n",
    "    \n",
    "    while time >= pulse_duration:\n",
    "        time = time - pulse_duration\n",
    "        pulses = pulses + 1\n",
    "        pulse_duration = a * pulse_duration + add_noise * noise(b * a * pulse_duration)\n",
    "        \n",
    "    return pulses\n",
    "\n",
    "def pulses_to_time(pulses, t_0 = t_0, a = a, b = b, add_noise = add_noise):\n",
    "    time = 0\n",
    "    pulse_duration = t_0\n",
    "    \n",
    "    while pulses > 0:\n",
    "        time = time + pulse_duration\n",
    "        pulses = pulses - 1\n",
    "        pulse_duration = a * pulse_duration + add_noise * noise(b * a * pulse_duration)\n",
    "    \n",
    "    return time"
   ]
  },
  {
   "attachments": {},
   "cell_type": "markdown",
   "metadata": {},
   "source": [
    "## Experiment"
   ]
  },
  {
   "cell_type": "code",
   "execution_count": 3,
   "metadata": {},
   "outputs": [],
   "source": [
    "def experiment(participants):\n",
    "\n",
    "    intertrial_interval = []\n",
    "    reward_visibility = [\n",
    "        [0, 0], \n",
    "        [1, 0], \n",
    "        [1, 1], \n",
    "        [0, 1]]\n",
    "    foreperiod_location = [\n",
    "        [0.3, 0],\n",
    "        [0.3, 1],\n",
    "        [0.6, 0],\n",
    "        [0.6, 1],\n",
    "        [0.9, 0],\n",
    "        [0.9, 1]]\n",
    "\n",
    "    # visibility 0 = poor\n",
    "    # location 0 = left\n",
    "    \n",
    "    recording_data = False\n",
    "    count = 0\n",
    "    for participant in range(participants):\n",
    "\n",
    "        # prep the model, add a single instance to avoid an error with NoneType\n",
    "        participant_model = Model()\n",
    "        random.shuffle(foreperiod_location)\n",
    "        pulses = time_to_pulses(foreperiod_location[0][0])\n",
    "        chunk = Chunk(name = \"time\" + \"train\", slots = {\"type\": \"time\", \"value\": pulses})\n",
    "        participant_model.add_encounter(chunk)\n",
    "        participant_model.time += 0.1\n",
    "\n",
    "        # shuffle the lists\n",
    "        random.shuffle(reward_visibility)\n",
    "        random.shuffle(foreperiod_location)\n",
    "\n",
    "        index_block = 0\n",
    "        index_trial = 0\n",
    "\n",
    "        for block in range(16):\n",
    "\n",
    "            if(index_block == 4):\n",
    "                random.shuffle(reward_visibility)\n",
    "                index_block = 0\n",
    "            \n",
    "            for trial in range(30):\n",
    "\n",
    "                if(index_trial == 6):\n",
    "                    random.shuffle(foreperiod_location)\n",
    "                    index_trial = 0\n",
    "\n",
    "                # constants\n",
    "                reaction_time = 0.410\n",
    "                reward_time = 0.05\n",
    "                visibility_time = 0.05\n",
    "\n",
    "                # pre stimulus\n",
    "                blend_pattern = Chunk(name = \"foreperiod\", slots = {\"type\": \"time\"})\n",
    "                memory = participant_model.retrieve_blended_trace(blend_pattern, \"value\")\n",
    "                anticipation = 0.5\n",
    "\n",
    "                # stimulus\n",
    "                difference = foreperiod_location[index_trial][0] - pulses_to_time(memory[0] * anticipation)\n",
    "                participant_model.time += memory[1] + 0.05\n",
    "\n",
    "                reaction_time = reaction_time - (reward_time * reward_visibility[index_block][0]) - (visibility_time * reward_visibility[index_block][1])\n",
    "\n",
    "                if(not recording_data):\n",
    "                    results = np.array([[participant, block, trial, reward_visibility[index_block][0], reward_visibility[index_block][1], foreperiod_location[index_trial][0], foreperiod_location[index_trial][1], reaction_time]])\n",
    "                    recording_data = True\n",
    "                else:\n",
    "                    results = np.append(results, [[participant, block, trial, reward_visibility[index_block][0], reward_visibility[index_block][1], foreperiod_location[index_trial][0], foreperiod_location[index_trial][1], reaction_time]], axis=0)\n",
    "                \n",
    "                # post stimulus\n",
    "                pulses = time_to_pulses(foreperiod_location[index_trial][0])\n",
    "                chunk = Chunk(name = \"time\" + str(count), slots = {\"type\": \"time\", \"value\": pulses})\n",
    "                participant_model.add_encounter(chunk)\n",
    "                count += 1\n",
    "                participant_model.time += 0.1\n",
    "\n",
    "                # simple printout to see progress.\n",
    "                print(\"Participant: {}/{}\".format(participant + 1, participants), end=\"\\r\")\n",
    "\n",
    "                index_trial += 1\n",
    "            index_block += 1\n",
    "\n",
    "    return results "
   ]
  },
  {
   "attachments": {},
   "cell_type": "markdown",
   "metadata": {},
   "source": [
    "## Run the Experiment"
   ]
  },
  {
   "cell_type": "code",
   "execution_count": 4,
   "metadata": {},
   "outputs": [
    {
     "name": "stdout",
     "output_type": "stream",
     "text": [
      "Participant: 10/10\r"
     ]
    }
   ],
   "source": [
    "data = experiment(10)"
   ]
  },
  {
   "attachments": {},
   "cell_type": "markdown",
   "metadata": {},
   "source": [
    "## Data Analysis"
   ]
  },
  {
   "cell_type": "code",
   "execution_count": 10,
   "metadata": {},
   "outputs": [
    {
     "data": {
      "text/html": [
       "<div>\n",
       "<style scoped>\n",
       "    .dataframe tbody tr th:only-of-type {\n",
       "        vertical-align: middle;\n",
       "    }\n",
       "\n",
       "    .dataframe tbody tr th {\n",
       "        vertical-align: top;\n",
       "    }\n",
       "\n",
       "    .dataframe thead th {\n",
       "        text-align: right;\n",
       "    }\n",
       "</style>\n",
       "<table border=\"1\" class=\"dataframe\">\n",
       "  <thead>\n",
       "    <tr style=\"text-align: right;\">\n",
       "      <th></th>\n",
       "      <th></th>\n",
       "      <th></th>\n",
       "      <th>RT</th>\n",
       "    </tr>\n",
       "    <tr>\n",
       "      <th>reward</th>\n",
       "      <th>visibility</th>\n",
       "      <th>foreperiod</th>\n",
       "      <th></th>\n",
       "    </tr>\n",
       "  </thead>\n",
       "  <tbody>\n",
       "    <tr>\n",
       "      <th rowspan=\"6\" valign=\"top\">0.0</th>\n",
       "      <th rowspan=\"3\" valign=\"top\">0.0</th>\n",
       "      <th>0.3</th>\n",
       "      <td>0.41</td>\n",
       "    </tr>\n",
       "    <tr>\n",
       "      <th>0.6</th>\n",
       "      <td>0.41</td>\n",
       "    </tr>\n",
       "    <tr>\n",
       "      <th>0.9</th>\n",
       "      <td>0.41</td>\n",
       "    </tr>\n",
       "    <tr>\n",
       "      <th rowspan=\"3\" valign=\"top\">1.0</th>\n",
       "      <th>0.3</th>\n",
       "      <td>0.36</td>\n",
       "    </tr>\n",
       "    <tr>\n",
       "      <th>0.6</th>\n",
       "      <td>0.36</td>\n",
       "    </tr>\n",
       "    <tr>\n",
       "      <th>0.9</th>\n",
       "      <td>0.36</td>\n",
       "    </tr>\n",
       "    <tr>\n",
       "      <th rowspan=\"6\" valign=\"top\">1.0</th>\n",
       "      <th rowspan=\"3\" valign=\"top\">0.0</th>\n",
       "      <th>0.3</th>\n",
       "      <td>0.36</td>\n",
       "    </tr>\n",
       "    <tr>\n",
       "      <th>0.6</th>\n",
       "      <td>0.36</td>\n",
       "    </tr>\n",
       "    <tr>\n",
       "      <th>0.9</th>\n",
       "      <td>0.36</td>\n",
       "    </tr>\n",
       "    <tr>\n",
       "      <th rowspan=\"3\" valign=\"top\">1.0</th>\n",
       "      <th>0.3</th>\n",
       "      <td>0.31</td>\n",
       "    </tr>\n",
       "    <tr>\n",
       "      <th>0.6</th>\n",
       "      <td>0.31</td>\n",
       "    </tr>\n",
       "    <tr>\n",
       "      <th>0.9</th>\n",
       "      <td>0.31</td>\n",
       "    </tr>\n",
       "  </tbody>\n",
       "</table>\n",
       "</div>"
      ],
      "text/plain": [
       "                                RT\n",
       "reward visibility foreperiod      \n",
       "0.0    0.0        0.3         0.41\n",
       "                  0.6         0.41\n",
       "                  0.9         0.41\n",
       "       1.0        0.3         0.36\n",
       "                  0.6         0.36\n",
       "                  0.9         0.36\n",
       "1.0    0.0        0.3         0.36\n",
       "                  0.6         0.36\n",
       "                  0.9         0.36\n",
       "       1.0        0.3         0.31\n",
       "                  0.6         0.31\n",
       "                  0.9         0.31"
      ]
     },
     "execution_count": 10,
     "metadata": {},
     "output_type": "execute_result"
    }
   ],
   "source": [
    "# keep a copy\n",
    "dataFrame = pd.DataFrame(data)\n",
    "dataFrame.columns = [\"participant\", \"block\", \"trial\", \"reward\", \"visibility\", \"foreperiod\", \"location\", \"RT\"]\n",
    "\n",
    "dataFrame.drop('participant', inplace=True, axis=1)\n",
    "dataFrame.drop('block', inplace=True, axis=1)\n",
    "dataFrame.drop('trial', inplace=True, axis=1)\n",
    "dataFrame.drop('location', inplace=True, axis=1)\n",
    "dataFrame.groupby([\"reward\", \"visibility\", \"foreperiod\"]).mean()"
   ]
  },
  {
   "cell_type": "code",
   "execution_count": 6,
   "metadata": {},
   "outputs": [],
   "source": [
    "# xPoints = np.array([0.3, 0.6, 0.9])\n",
    "# y1Points = np.array([12, 14, 16])\n",
    "# y2Points = np.array([12, 7, 6])\n",
    "\n",
    "# plt.subplot(1, 2, 1) # row 1, col 2 index 1\n",
    "# plt.plot(xPoints, y1Points)\n",
    "# plt.title(\"visibility 1\")\n",
    "# plt.xlabel('X-axis ')\n",
    "# plt.ylabel('Y-axis ')\n",
    "\n",
    "# plt.subplot(1, 2, 2) # index 2\n",
    "# plt.plot(xPoints, y2Points)\n",
    "# plt.title(\"visibility 0\")\n",
    "# plt.xlabel('X-axis ')\n",
    "# plt.ylabel('Y-axis ')\n",
    "\n",
    "# plt.show()"
   ]
  }
 ],
 "metadata": {
  "kernelspec": {
   "display_name": ".venv",
   "language": "python",
   "name": "python3"
  },
  "language_info": {
   "codemirror_mode": {
    "name": "ipython",
    "version": 3
   },
   "file_extension": ".py",
   "mimetype": "text/x-python",
   "name": "python",
   "nbconvert_exporter": "python",
   "pygments_lexer": "ipython3",
   "version": "3.10.9"
  },
  "orig_nbformat": 4,
  "vscode": {
   "interpreter": {
    "hash": "9b0983b8baef59ce582b18c0327204e1a8a3f92303321d25af68b7d3ea84c6bf"
   }
  }
 },
 "nbformat": 4,
 "nbformat_minor": 2
}
