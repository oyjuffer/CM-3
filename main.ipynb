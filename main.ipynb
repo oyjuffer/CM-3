{
 "cells": [
  {
   "attachments": {},
   "cell_type": "markdown",
   "metadata": {},
   "source": [
    "# Cognitive Modeling - Assignment 3\n",
    "Yorick Juffer \\\n",
    "s1993623"
   ]
  },
  {
   "attachments": {},
   "cell_type": "markdown",
   "metadata": {},
   "source": [
    "## Libraries"
   ]
  },
  {
   "cell_type": "code",
   "execution_count": 1,
   "metadata": {},
   "outputs": [],
   "source": [
    "import math\n",
    "import random\n",
    "\n",
    "from model import Model\n",
    "from dmchunk import Chunk\n",
    "\n",
    "import numpy as np\n",
    "import pandas as pd\n",
    "from matplotlib import pyplot as plt\n",
    "import seaborn as sns\n",
    "\n",
    "import statsmodels.api as sm\n",
    "import statsmodels.formula.api as smf"
   ]
  },
  {
   "attachments": {},
   "cell_type": "markdown",
   "metadata": {},
   "source": [
    "## Pulses\n",
    "These are functions found on brightspace from week 2."
   ]
  },
  {
   "cell_type": "code",
   "execution_count": 2,
   "metadata": {},
   "outputs": [],
   "source": [
    "t_0 = 0.011\n",
    "a = 1.1\n",
    "b = 0.015\n",
    "add_noise = True\n",
    "\n",
    "def noise(s):\n",
    "    rand = random.uniform(0.001, 0.999)\n",
    "    return s * math.log((1 - rand)/rand)\n",
    "\n",
    "def time_to_pulses(time, t_0 = t_0, a = a, b = b, add_noise = add_noise):  \n",
    "    pulses = 0\n",
    "    pulse_duration = t_0\n",
    "    \n",
    "    while time >= pulse_duration:\n",
    "        time = time - pulse_duration\n",
    "        pulses = pulses + 1\n",
    "        pulse_duration = a * pulse_duration + add_noise * noise(b * a * pulse_duration)\n",
    "        \n",
    "    return pulses\n",
    "\n",
    "def pulses_to_time(pulses, t_0 = t_0, a = a, b = b, add_noise = add_noise):\n",
    "    time = 0\n",
    "    pulse_duration = t_0\n",
    "    \n",
    "    while pulses > 0:\n",
    "        time = time + pulse_duration\n",
    "        pulses = pulses - 1\n",
    "        pulse_duration = a * pulse_duration + add_noise * noise(b * a * pulse_duration)\n",
    "    \n",
    "    return time"
   ]
  },
  {
   "attachments": {},
   "cell_type": "markdown",
   "metadata": {},
   "source": [
    "## Motivation\n",
    "This is an extract of the models found on brightspace in week 5 named Boksem.ipynb.  "
   ]
  },
  {
   "cell_type": "code",
   "execution_count": 3,
   "metadata": {},
   "outputs": [],
   "source": [
    "class ModelWithMotivation(Model):\n",
    "    da = 0.5  # distraction activation\n",
    "    discount = 0.1 # discount due to motivation drop\n",
    "    \n",
    "    def discount_goal_activation(self):\n",
    "        self.ga -= self.discount\n",
    "        \n",
    "    def __str__(self):\n",
    "        return \"\\n=== Model ===\\n\" \\\n",
    "        \"Time: \" + str(self.time) + \" s \\n\" \\\n",
    "        \"Goal:\" + str(self.goal) + \"\\n\" \\\n",
    "        \"DM:\" + \"\\n\".join([str(c) for c in self.dm]) + \"\\n\" \\\n",
    "        \"ga: \" + str(self.ga) + \"\\n\" \n",
    "    \n",
    "    def distraction(self):\n",
    "        return self.da + self.noise(self.s) > self.ga + self.noise(self.s)\n",
    "\n",
    "# Experiment timing:\n",
    "distraction_mean_time = 0.2 # average distraction time\n",
    "distraction_variation = 0.1 # variation in distraction (uniform)\n",
    "focus_loss_probability = 0.2 # probability to lose focus once prepared\n",
    "focus_latency = 0.2 # if we decide to stay focussed, we focus for this amount of time\n",
    "\n",
    "\n",
    "def distraction_time():\n",
    "    return random.uniform(distraction_mean_time - distraction_variation, distraction_mean_time + distraction_variation)"
   ]
  },
  {
   "attachments": {},
   "cell_type": "markdown",
   "metadata": {},
   "source": [
    "## Full Experiment"
   ]
  },
  {
   "cell_type": "code",
   "execution_count": 4,
   "metadata": {},
   "outputs": [],
   "source": [
    "def experiment(participants):\n",
    "\n",
    "    reward_visibility = [\n",
    "        [0, 0], \n",
    "        [1, 0], \n",
    "        [1, 1], \n",
    "        [0, 1]]\n",
    "    foreperiod_location = [\n",
    "        [0.3, 0],\n",
    "        [0.3, 1],\n",
    "        [0.6, 0],\n",
    "        [0.6, 1],\n",
    "        [0.9, 0],\n",
    "        [0.9, 1]]\n",
    "\n",
    "    # visibility 0 = poor\n",
    "    # location 0 = left\n",
    "    \n",
    "    recording = False\n",
    "    count = 0\n",
    "    for participant in range(participants):\n",
    "\n",
    "        # prep the model, add a single instance to avoid an error with NoneType\n",
    "        model = ModelWithMotivation()\n",
    "        pulses = time_to_pulses(0.6)\n",
    "        chunk = Chunk(name = \"time\" + \"train\", slots = {\"type\": \"time\", \"value\": pulses})\n",
    "        model.add_encounter(chunk)\n",
    "        model.time += 0.1\n",
    "\n",
    "        # shuffle the lists\n",
    "        random.shuffle(reward_visibility)\n",
    "        random.shuffle(foreperiod_location)\n",
    "\n",
    "        index_block = 0\n",
    "        index_trial = 0\n",
    "\n",
    "        for block in range(16):\n",
    "\n",
    "            if(index_block == 4):\n",
    "                random.shuffle(reward_visibility)\n",
    "                index_block = 0\n",
    "            \n",
    "            reward = reward_visibility[index_block][0]\n",
    "            visibility = reward_visibility[index_block][1]\n",
    "\n",
    "            if(reward == 1):\n",
    "                model.ga = 1.0\n",
    "            \n",
    "            for trial in range(30):\n",
    "\n",
    "                if(index_trial == 6):\n",
    "                    random.shuffle(foreperiod_location)\n",
    "                    index_trial = 0\n",
    "\n",
    "                foreperiod = foreperiod_location[index_trial][0]\n",
    "                location = foreperiod_location[index_trial][1]\n",
    "                intertrial_interval = random.uniform(0.5, 0.8)\n",
    "                cue_stimulus_interval = foreperiod + intertrial_interval\n",
    "\n",
    "                # pre stimulus\n",
    "                start = model.time\n",
    "                blend_pattern = Chunk(name = \"foreperiod\", slots = {\"type\": \"time\"})\n",
    "                chunk, latency = model.retrieve_blended_trace(blend_pattern, \"value\")\n",
    "                model.time += latency\n",
    "\n",
    "                # assessing the motivation\n",
    "                running = True\n",
    "                prepared = False\n",
    "                while(running):\n",
    "                    if(model.time - start < cue_stimulus_interval and not model.distraction()):\n",
    "                        prepared = True\n",
    "                        model.time += focus_latency + 0.05\n",
    "                    elif(model.time - start < cue_stimulus_interval):\n",
    "                        model.time += distraction_time() + 0.1\n",
    "                    elif(prepared):\n",
    "                        model.time += 0.05\n",
    "                        running = False\n",
    "                    else:\n",
    "                        model.time += 0.1\n",
    "                        running = False\n",
    "\n",
    "                # stimulus, 0.75 weight for anticipation of the stimulus.\n",
    "                difference = foreperiod - pulses_to_time(chunk * 0.75)\n",
    "\n",
    "                # estimation of stimulus arrival.\n",
    "                # introduces a small bias for when visibility is high\n",
    "                if (difference >= 0.075):\n",
    "                    model.time += 0.075 - (0.01 * visibility)\n",
    "                elif(difference <= 0):\n",
    "                    model.time += 0.1\n",
    "                else:\n",
    "                    model.time += 0.075 + difference - (0.01 * visibility)\n",
    "                \n",
    "                reaction_time = model.time - start - (0.025 * visibility) - cue_stimulus_interval\n",
    "\n",
    "                if(not recording):\n",
    "                    results = np.array([[participant, block, trial, reward, visibility, foreperiod, location, reaction_time]])\n",
    "                    recording = True\n",
    "                else:\n",
    "                    results = np.append(results, [[participant, block, trial, reward, visibility, foreperiod, location, reaction_time]], axis=0)\n",
    "                \n",
    "                # post stimulus\n",
    "                pulses = time_to_pulses(foreperiod)\n",
    "                chunk = Chunk(name = \"time\" + str(count), slots = {\"type\": \"time\", \"value\": pulses})\n",
    "                model.add_encounter(chunk)\n",
    "                model.time += intertrial_interval + 0.1\n",
    "                \n",
    "                model.discount_goal_activation()\n",
    "\n",
    "                # simple printout to see progress.\n",
    "                print(\"Participant: {}/{}\".format(participant + 1, participants), end=\"\\r\")\n",
    "                count += 1\n",
    "\n",
    "                index_trial += 1\n",
    "            index_block += 1\n",
    "\n",
    "    return results "
   ]
  },
  {
   "attachments": {},
   "cell_type": "markdown",
   "metadata": {},
   "source": [
    "## Run the Experiment"
   ]
  },
  {
   "cell_type": "code",
   "execution_count": 5,
   "metadata": {},
   "outputs": [
    {
     "name": "stdout",
     "output_type": "stream",
     "text": [
      "Participant: 200/200\r"
     ]
    }
   ],
   "source": [
    "data = experiment(200)"
   ]
  },
  {
   "attachments": {},
   "cell_type": "markdown",
   "metadata": {},
   "source": [
    "## Data Analysis"
   ]
  },
  {
   "attachments": {},
   "cell_type": "markdown",
   "metadata": {},
   "source": [
    "### Graphing"
   ]
  },
  {
   "cell_type": "code",
   "execution_count": 6,
   "metadata": {},
   "outputs": [
    {
     "data": {
      "image/png": "[encoded data removed]",
      "text/plain": [
       "<Figure size 640x480 with 2 Axes>"
      ]
     },
     "metadata": {},
     "output_type": "display_data"
    }
   ],
   "source": [
    "dataFrame = pd.DataFrame(data)\n",
    "dataFrame.columns = [\"participant\", \"block\", \"trial\", \"reward\", \"visibility\", \"foreperiod\", \"location\", \"RT\"]\n",
    "\n",
    "df1 = dataFrame[dataFrame[\"visibility\"] == 1]\n",
    "df2 = dataFrame[dataFrame[\"visibility\"] == 0]\n",
    "\n",
    "fig, ax = plt.subplots(1,2)\n",
    "ax1 = sns.lineplot(data=df1, x=\"foreperiod\", y=\"RT\", hue = \"reward\", ax=ax[0], marker=\"o\", err_style=\"bars\", errorbar=('ci', 95), legend=False)\n",
    "ax2 = sns.lineplot(data=df2, x=\"foreperiod\", y=\"RT\", hue = \"reward\", ax=ax[1], marker=\"o\", err_style=\"bars\", errorbar=('ci', 95))\n",
    "\n",
    "ax1.set_ylim(0.25, 0.375)\n",
    "ax2.set_ylim(0.25, 0.375)\n",
    "\n",
    "ax1.set(title=\"visibility = high\")\n",
    "ax2.set(title=\"visibility = low\")\n",
    "\n",
    "ax1.grid()\n",
    "ax2.grid()\n",
    "\n",
    "fig.subplots_adjust(wspace=0.4)"
   ]
  },
  {
   "attachments": {},
   "cell_type": "markdown",
   "metadata": {},
   "source": [
    "### Linear Mixed Effect Regression Model"
   ]
  },
  {
   "cell_type": "code",
   "execution_count": 7,
   "metadata": {},
   "outputs": [
    {
     "name": "stdout",
     "output_type": "stream",
     "text": [
      "                 Mixed Linear Model Regression Results\n",
      "========================================================================\n",
      "Model:                  MixedLM      Dependent Variable:      RT        \n",
      "No. Observations:       96000        Method:                  REML      \n",
      "No. Groups:             200          Scale:                   0.0095    \n",
      "Min. group size:        480          Log-Likelihood:          87347.7922\n",
      "Max. group size:        480          Converged:               Yes       \n",
      "Mean group size:        480.0                                           \n",
      "------------------------------------------------------------------------\n",
      "                             Coef.  Std.Err.    z    P>|z| [0.025 0.975]\n",
      "------------------------------------------------------------------------\n",
      "Intercept                     0.353    0.002 211.858 0.000  0.349  0.356\n",
      "foreperiod                   -0.027    0.003 -10.569 0.000 -0.032 -0.022\n",
      "reward                       -0.012    0.002  -5.100 0.000 -0.017 -0.007\n",
      "foreperiod:reward            -0.014    0.004  -3.849 0.000 -0.021 -0.007\n",
      "visibility                   -0.023    0.002  -9.674 0.000 -0.027 -0.018\n",
      "foreperiod:visibility        -0.018    0.004  -4.834 0.000 -0.025 -0.010\n",
      "reward:visibility            -0.004    0.003  -1.307 0.191 -0.011  0.002\n",
      "foreperiod:reward:visibility  0.008    0.005   1.650 0.099 -0.002  0.019\n",
      "Group Var                     0.000    0.000                            \n",
      "Group x foreperiod Cov       -0.000    0.000                            \n",
      "foreperiod Var                0.000    0.000                            \n",
      "========================================================================\n",
      "\n"
     ]
    },
    {
     "name": "stderr",
     "output_type": "stream",
     "text": [
      "c:\\GitHub\\CM-3\\.venv\\lib\\site-packages\\statsmodels\\regression\\mixed_linear_model.py:2237: ConvergenceWarning: The MLE may be on the boundary of the parameter space.\n",
      "  warnings.warn(msg, ConvergenceWarning)\n"
     ]
    }
   ],
   "source": [
    "mixed = smf.mixedlm(\"RT ~ foreperiod*reward*visibility\", dataFrame, groups=dataFrame[\"participant\"], re_formula=\"~foreperiod\")\n",
    "mixed_fit = mixed.fit(method=[\"lbfgs\"])\n",
    "print(mixed_fit.summary())"
   ]
  }
 ],
 "metadata": {
  "kernelspec": {
   "display_name": ".venv",
   "language": "python",
   "name": "python3"
  },
  "language_info": {
   "codemirror_mode": {
    "name": "ipython",
    "version": 3
   },
   "file_extension": ".py",
   "mimetype": "text/x-python",
   "name": "python",
   "nbconvert_exporter": "python",
   "pygments_lexer": "ipython3",
   "version": "3.10.9"
  },
  "orig_nbformat": 4,
  "vscode": {
   "interpreter": {
    "hash": "910a7772b55b4be6f7a56f00668476618100387c0dfbf4bb1badfbd18991f0b3"
   }
  }
 },
 "nbformat": 4,
 "nbformat_minor": 2
}
