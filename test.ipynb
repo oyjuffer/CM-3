{
 "cells": [
  {
   "cell_type": "code",
   "execution_count": 1,
   "metadata": {},
   "outputs": [],
   "source": [
    "import pandas as pd\n",
    "import numpy as np\n",
    "import matplotlib.pyplot as plt\n",
    "import itertools as it"
   ]
  },
  {
   "cell_type": "code",
   "execution_count": 2,
   "metadata": {},
   "outputs": [],
   "source": [
    "def compose(*functions):\n",
    "  \"\"\"\n",
    "  My own compose function because itertools doesn't have one\n",
    "  and I'm a functional programming shill.\n",
    "  \"\"\"\n",
    "  def inner(*args, **kwargs):\n",
    "    res = functions[-1](*args, **kwargs)\n",
    "    for f in functions[-2::-1]:\n",
    "      res = f(res)\n",
    "    return res\n",
    "  return inner"
   ]
  },
  {
   "cell_type": "code",
   "execution_count": 3,
   "metadata": {},
   "outputs": [
    {
     "name": "stdout",
     "output_type": "stream",
     "text": [
      "<bound method NDFrame.head of        Unnamed: 0  jatosStudyResultId    sub_id studentnumber  Block_nr  ITI  \\\n",
      "0               1              181910  pp181910      s5337712         0  638   \n",
      "1               2              181910  pp181910      s5337712         0  700   \n",
      "2               3              181910  pp181910      s5337712         0  624   \n",
      "3               4              181910  pp181910      s5337712         0  594   \n",
      "4               5              181910  pp181910      s5337712         0  520   \n",
      "...           ...                 ...       ...           ...       ...  ...   \n",
      "29200       29201              186001  pp186001      s2731517        16  552   \n",
      "29201       29202              186001  pp186001      s2731517        16  585   \n",
      "29202       29203              186001  pp186001      s2731517        16  514   \n",
      "29203       29204              186001  pp186001      s2731517        16  747   \n",
      "29204       29205              186001  pp186001      s2731517        16  756   \n",
      "\n",
      "      practice  foreperiod reward target_visibility  ...   FP fp_1  fp_2 fp_3  \\\n",
      "0          yes         900    yes                hi  ...  900  NaN   NaN  NaN   \n",
      "1          yes         900    yes                hi  ...  900  0.9   NaN  NaN   \n",
      "2          yes         600    yes                hi  ...  600  0.9   0.9  NaN   \n",
      "3          yes         600    yes                hi  ...  600  0.6   0.9  0.9   \n",
      "4          yes         300    yes                hi  ...  300  0.6   0.6  0.9   \n",
      "...        ...         ...    ...               ...  ...  ...  ...   ...  ...   \n",
      "29200       no         300     no                lo  ...  300  0.6   0.6  0.9   \n",
      "29201       no         900     no                lo  ...  900  0.3   0.6  0.6   \n",
      "29202       no         900     no                lo  ...  900  0.9   0.3  0.6   \n",
      "29203       no         300     no                lo  ...  300  0.9   0.9  0.3   \n",
      "29204       no         600     no                lo  ...  600  0.3   0.9  0.9   \n",
      "\n",
      "      fp_4  fp_5   RT     invRT  outlier  good_sub  \n",
      "0      NaN   NaN  790  0.001266      yes      True  \n",
      "1      NaN   NaN  353  0.002833       no      True  \n",
      "2      NaN   NaN  401  0.002494       no      True  \n",
      "3      NaN   NaN  376  0.002660       no      True  \n",
      "4      0.9   NaN  518  0.001931      yes      True  \n",
      "...    ...   ...  ...       ...      ...       ...  \n",
      "29200  0.6   0.3  349  0.002865       no      True  \n",
      "29201  0.9   0.6  333  0.003003       no      True  \n",
      "29202  0.6   0.9  273  0.003663       no      True  \n",
      "29203  0.6   0.6  373  0.002681       no      True  \n",
      "29204  0.3   0.6  407  0.002457       no      True  \n",
      "\n",
      "[29205 rows x 33 columns]>\n"
     ]
    }
   ],
   "source": [
    "data = pd.read_csv('./real_data.csv')\n",
    "print(data.head)"
   ]
  },
  {
   "cell_type": "code",
   "execution_count": 4,
   "metadata": {},
   "outputs": [
    {
     "name": "stdout",
     "output_type": "stream",
     "text": [
      "    Unnamed: 0  jatosStudyResultId    sub_id studentnumber  Block_nr  ITI  \\\n",
      "15          16              181910  pp181910      s5337712         1  608   \n",
      "16          17              181910  pp181910      s5337712         1  745   \n",
      "17          18              181910  pp181910      s5337712         1  576   \n",
      "18          19              181910  pp181910      s5337712         1  600   \n",
      "19          20              181910  pp181910      s5337712         1  515   \n",
      "\n",
      "   practice  foreperiod reward target_visibility  ...   FP fp_1  fp_2 fp_3  \\\n",
      "15       no         300    yes                hi  ...  300  0.9   0.3  0.6   \n",
      "16       no         300    yes                hi  ...  300  0.3   0.9  0.3   \n",
      "17       no         300    yes                hi  ...  300  0.3   0.3  0.9   \n",
      "18       no         600    yes                hi  ...  600  0.3   0.3  0.3   \n",
      "19       no         900    yes                hi  ...  900  0.6   0.3  0.3   \n",
      "\n",
      "   fp_4  fp_5   RT     invRT  outlier  good_sub  \n",
      "15  0.3   0.6  345  0.002899       no      True  \n",
      "16  0.6   0.3  327  0.003058       no      True  \n",
      "17  0.3   0.6  309  0.003236       no      True  \n",
      "18  0.9   0.3  310  0.003226       no      True  \n",
      "19  0.3   0.9  364  0.002747       no      True  \n",
      "\n",
      "[5 rows x 33 columns]\n"
     ]
    }
   ],
   "source": [
    "def preprocess(data, extra_filter = \"\"):\n",
    "  \"\"\"\n",
    "  Gets rid of practice, outlier, bad submission, and incomplete trial rows.\n",
    "  Allows for additional filters. For example: \"correct == 'yes' and Block_nr > 5\".\n",
    "  \"\"\"\n",
    "  if extra_filter:  # True if it's not the empty string\n",
    "    extra_filter = \" and \" + extra_filter\n",
    "\n",
    "  filter_expression = \"\"\"\n",
    "    practice == 'no'      and\n",
    "    outlier  == 'no'      and\n",
    "    good_sub == True      and\n",
    "    exp_completed == True \n",
    "  \"\"\"\n",
    "  filter_expression = (filter_expression + extra_filter).replace('\\n', '')\n",
    "\n",
    "  return data.query(filter_expression)\n",
    "\n",
    "data = preprocess(data)\n",
    "print(data.head())"
   ]
  },
  {
   "cell_type": "code",
   "execution_count": 7,
   "metadata": {},
   "outputs": [
    {
     "name": "stdout",
     "output_type": "stream",
     "text": [
      "[[[[ 321.00868056   62.5487651  2304.        ]\n",
      "   [ 301.68798956   54.44892565 2298.        ]\n",
      "   [ 297.1045235    55.73353665 2277.        ]]\n",
      "\n",
      "  [[ 332.20236531   69.2321142  2283.        ]\n",
      "   [ 315.0377193    67.34578471 2280.        ]\n",
      "   [ 307.11640212   62.19653406 2268.        ]]]\n",
      "\n",
      "\n",
      " [[[ 320.10629067   60.5527502  2305.        ]\n",
      "   [ 304.01921397   62.30528851 2290.        ]\n",
      "   [ 297.89531802   51.37950409 2264.        ]]\n",
      "\n",
      "  [[ 330.17425569   69.20312194 2284.        ]\n",
      "   [ 312.94813187   61.6365379  2275.        ]\n",
      "   [ 306.33171806   59.99562105 2270.        ]]]]\n",
      "labels: {'target_location': ['left', 'right'], 'reward': ['yes', 'no'], 'FP': [300, 600, 900], 'RT': []}\n",
      "\n",
      "Mean and std of first entry:\n"
     ]
    },
    {
     "ename": "KeyError",
     "evalue": "'target_visibility'",
     "output_type": "error",
     "traceback": [
      "\u001b[0;31m---------------------------------------------------------------------------\u001b[0m",
      "\u001b[0;31mKeyError\u001b[0m                                  Traceback (most recent call last)",
      "\u001b[1;32m/home/user/Uni/m2/cognitive_modeling/final_model/model.ipynb Cell 5\u001b[0m in \u001b[0;36m<module>\u001b[0;34m\u001b[0m\n\u001b[1;32m    <a href='vscode-notebook-cell:/home/user/Uni/m2/cognitive_modeling/final_model/model.ipynb#W3sZmlsZQ%3D%3D?line=103'>104</a>\u001b[0m \u001b[39mprint\u001b[39m(\u001b[39m\"\u001b[39m\u001b[39m\\n\u001b[39;00m\u001b[39mMean and std of first entry:\u001b[39m\u001b[39m\"\u001b[39m)\n\u001b[1;32m    <a href='vscode-notebook-cell:/home/user/Uni/m2/cognitive_modeling/final_model/model.ipynb#W3sZmlsZQ%3D%3D?line=104'>105</a>\u001b[0m \u001b[39m# Accessing via values\u001b[39;00m\n\u001b[0;32m--> <a href='vscode-notebook-cell:/home/user/Uni/m2/cognitive_modeling/final_model/model.ipynb#W3sZmlsZQ%3D%3D?line=105'>106</a>\u001b[0m \u001b[39mprint\u001b[39m(target_values[label_dict[\u001b[39m'\u001b[39;49m\u001b[39mtarget_visibility\u001b[39;49m\u001b[39m'\u001b[39;49m]\u001b[39m.\u001b[39mindex(\u001b[39m'\u001b[39m\u001b[39mhi\u001b[39m\u001b[39m'\u001b[39m),\n\u001b[1;32m    <a href='vscode-notebook-cell:/home/user/Uni/m2/cognitive_modeling/final_model/model.ipynb#W3sZmlsZQ%3D%3D?line=106'>107</a>\u001b[0m                     label_dict[\u001b[39m'\u001b[39m\u001b[39mreward\u001b[39m\u001b[39m'\u001b[39m]\u001b[39m.\u001b[39mindex(\u001b[39m\"\u001b[39m\u001b[39myes\u001b[39m\u001b[39m\"\u001b[39m),\n\u001b[1;32m    <a href='vscode-notebook-cell:/home/user/Uni/m2/cognitive_modeling/final_model/model.ipynb#W3sZmlsZQ%3D%3D?line=107'>108</a>\u001b[0m                     label_dict[\u001b[39m'\u001b[39m\u001b[39mFP\u001b[39m\u001b[39m'\u001b[39m]\u001b[39m.\u001b[39mindex(\u001b[39m300\u001b[39m)])\n\u001b[1;32m    <a href='vscode-notebook-cell:/home/user/Uni/m2/cognitive_modeling/final_model/model.ipynb#W3sZmlsZQ%3D%3D?line=109'>110</a>\u001b[0m \u001b[39m# Accessing via indices directly\u001b[39;00m\n\u001b[1;32m    <a href='vscode-notebook-cell:/home/user/Uni/m2/cognitive_modeling/final_model/model.ipynb#W3sZmlsZQ%3D%3D?line=110'>111</a>\u001b[0m \u001b[39mprint\u001b[39m(target_values[\u001b[39m0\u001b[39m,\u001b[39m0\u001b[39m,\u001b[39m0\u001b[39m])\n",
      "\u001b[0;31mKeyError\u001b[0m: 'target_visibility'"
     ]
    }
   ],
   "source": [
    "def aggregate(data, columns, ndarray=True):\n",
    "  \"\"\"\n",
    "  Calculates the means and standard deviations of the target variable (i.e. the first in the list of columns)\n",
    "  for all conditions (i.e. all other columns).\n",
    "  \n",
    "  Example call:\n",
    "  means, labels = aggregate(data, ['RT', 'FP', 'reward', 'target_visibility'])\n",
    "  \n",
    "  Will return a 4D list, indexed on target_visibilty first, then reward, then FP.\n",
    "  At which point you'll access a numpy array of the mean and std of RT, of length 2 of course.\n",
    "  \"\"\"\n",
    "  \n",
    "  target_name = columns[0]\n",
    "  # Column names of the conditional variables. Without the first (i.e. target) column and reversed.\n",
    "  condition_names = columns[:0:-1] \n",
    "  \n",
    "  # All unique values per conditional column. e.g. [[300, 600, 900], ['yes', 'no']].\n",
    "  original_unique_values = [data[col].unique() for col in condition_names]\n",
    "  # Strings require to be surrounded by additional quotation marks when using a dataframe query.\n",
    "  unique_values = [list(map(format_val, val)) for val in original_unique_values]\n",
    "  \n",
    "  # N-dimensional output array. Where N is the number of conditional variables, plus one for the target variable.\n",
    "  target_values = np.zeros(list([*map(len, unique_values), 3]))\n",
    "  \n",
    "  # Loop over all combinations of conditional variable values.\n",
    "  for value_idxs, col_values in zip(it.product(*map(compose(range, len), unique_values)), \n",
    "                                    it.product(*unique_values)):\n",
    "    \n",
    "    # Filter dataframe on the specific value combination. e.g. \"FP == 300 and reward == 'no'\".\n",
    "    filter_expression = \" and \".join([f\"{col} == {val}\" for col, val \n",
    "                                      in zip(condition_names, col_values)])\n",
    "    \n",
    "    subset = data.query(filter_expression)\n",
    "    mean = np.mean(subset[target_name])\n",
    "    std = np.std(subset[target_name])\n",
    "    n_samples = len(subset)\n",
    "    \n",
    "    # Record the mean, standard deviation, and nr. of samples in output array.\n",
    "    target_values[value_idxs] = np.array([mean, std, n_samples])\n",
    "  \n",
    "  \n",
    "  label_dict = {col: list(original_unique_values[i]) for i, col in enumerate(condition_names)}\n",
    "  # Append output column name for plot labeling later on.\n",
    "  label_dict = {**label_dict, target_name: []}\n",
    "  \n",
    "  if ndarray:\n",
    "    return target_values, label_dict\n",
    "  \n",
    "  return ndarray_to_df(target_values, label_dict)\n",
    "\n",
    "\n",
    "def format_val(value):\n",
    "  \"\"\"\n",
    "  For dataframe queries, string values need to be surrounded by additional quotation marks.\n",
    "  This function ensures that only strings are formatted as such, and nothing else.\n",
    "  \"\"\"\n",
    "  if not isinstance(value, str) or value.isnumeric() or value in ['True', 'False']:\n",
    "    return value\n",
    "  return f\"'{value}'\"\n",
    "\n",
    "\n",
    "def ndarray_to_df(ndarray: np.ndarray, labels):\n",
    "  \"\"\"\n",
    "  Converts pandas dataframe to ndarray + label dict.\n",
    "  \"\"\"\n",
    "  condition_names = list(labels.keys())[:-1]\n",
    "  target = list(labels.keys())[-1]\n",
    "  target_names = [f\"{target}_{metric}\" for metric in [\"mean\", \"std\", \"N\"]]\n",
    "  condition_values = list(labels.values())[:-1]\n",
    "  \n",
    "  df_values = [list(cond_value_combo) + list(target_values)\n",
    "                 for cond_value_combo, target_values\n",
    "                 in zip(it.product(*condition_values), ndarray.reshape(-1, ndarray.shape[-1]))]\n",
    "  df = pd.DataFrame(df_values, columns = condition_names + target_names)\n",
    "\n",
    "  return df\n",
    "\n",
    "\n",
    "def df_to_ndarray(df: pd.DataFrame):\n",
    "  \"\"\"\n",
    "  Converts ndarray + label dict format into pandas dataframe.\n",
    "  \"\"\"\n",
    "  condition_names = list(df.columns)[:-3]\n",
    "  target_name = '_'.join(df.columns[-1].split('_')[:-1])\n",
    "  condition_values = [df[cond].unique() for cond in condition_names]\n",
    "  \n",
    "  ndarray_shape = (*map(len, condition_values), 3)\n",
    "  ndarray = np.array(df.iloc[:, -3:]).reshape(ndarray_shape)\n",
    "  \n",
    "  label_dict = dict(zip(condition_names + [target_name], list(map(list, condition_values + [[]]))))\n",
    "  \n",
    "  return ndarray, label_dict\n",
    "  \n",
    "  \n",
    "ndarray_output_format = True\n",
    "\n",
    "output = aggregate(data, ['RT', 'FP', 'reward', 'target_location'], ndarray=ndarray_output_format)\n",
    "\n",
    "if ndarray_output_format:\n",
    "  target_values, label_dict = output\n",
    "  print(target_values)\n",
    "  print(f\"labels: {label_dict}\")\n",
    "\n",
    "  print(\"\\nMean and std of first entry:\")\n",
    "  # Accessing via values\n",
    "  print(target_values[label_dict['target_visibility'].index('hi'),\n",
    "                      label_dict['reward'].index(\"yes\"),\n",
    "                      label_dict['FP'].index(300)])\n",
    "\n",
    "  # Accessing via indices directly\n",
    "  print(target_values[0,0,0])\n",
    "\n",
    "else:\n",
    "  means_df = output\n",
    "  print(means_df)"
   ]
  },
  {
   "cell_type": "code",
   "execution_count": 10,
   "metadata": {},
   "outputs": [
    {
     "name": "stderr",
     "output_type": "stream",
     "text": [
      "/tmp/ipykernel_16290/359738171.py:59: UserWarning: Matplotlib is currently using module://matplotlib_inline.backend_inline, which is a non-GUI backend, so cannot show the figure.\n",
      "  fig.show()\n"
     ]
    },
    {
     "data": {
      "image/png": "[encoded data removed]",
      "text/plain": [
       "<Figure size 576x288 with 2 Axes>"
      ]
     },
     "metadata": {
      "needs_background": "light"
     },
     "output_type": "display_data"
    }
   ],
   "source": [
    "def means_plot(target_values, label_dict):\n",
    "  n_dims = len(target_values.shape)\n",
    "  \n",
    "  assert n_dims < 5, f\"Can only plot up to 4D data. Provided array is {n_dims}D.\"\n",
    "  \n",
    "  dims = list(target_values.shape)\n",
    "  # Prepend 1 to list of dimensions untiil it has a length of 4.\n",
    "  # Done to allow generalization of the following code.\n",
    "  dims = ([1] * (4 - n_dims)) + dims\n",
    "  \n",
    "  target_values = target_values.reshape(dims)\n",
    "  \n",
    "  condition_names = list(label_dict.keys())\n",
    "  condition_values = list(label_dict.values())\n",
    "  \n",
    "  n_plots, n_graphs, x_dim, y_dim = dims\n",
    "  \n",
    "  # Calculate the optimal nr. of rows and columns in the multiplot to.\n",
    "  # i.e. as close to a square as possible, with as little empty axes.\n",
    "  n_rows = compose(int, np.round, np.sqrt)(n_plots)\n",
    "  n_cols = compose(int, np.ceil, np.sqrt)(n_plots)\n",
    "  fig, axes = plt.subplots(n_rows, n_cols, figsize=(4 * n_cols, 4 * n_rows), sharey=True)\n",
    "  \n",
    "  # Loop over the nr. of axes (i.e. sub plots).\n",
    "  for plot_idx, ax in enumerate(np.ravel(axes)[:n_plots]):\n",
    "    x_vals = condition_values[-2]\n",
    "    \n",
    "    # Loop over the nr. of graphs (i.e. lines).\n",
    "    for graph_idx in range(n_graphs):\n",
    "      # Retrieve / calculate the target means and 95% confidence intervals.\n",
    "      y_means = target_values[plot_idx, graph_idx, :, 0]\n",
    "      y_std = target_values[plot_idx, graph_idx, :, 1]\n",
    "      n_samples = target_values[plot_idx, graph_idx, :, 2]\n",
    "      y_error = 1.96 * y_std / np.sqrt(n_samples)  # 1.96 * std to get the 95% confidence interval\n",
    "      \n",
    "      # Append label to the legend only if there are multiple graphs and we're currently on the first subplot.\n",
    "      label = \"\" if n_graphs == 1 or plot_idx > 0 else condition_values[-3][graph_idx]\n",
    "      \n",
    "      ax.errorbar(x_vals, y_means, y_error, marker='o', label=label, capsize=5, capthick=2)\n",
    "    \n",
    "    # Check if we need multiple graphs.\n",
    "    # Create legend containing labels for each graph if so.\n",
    "    if n_graphs > 1:\n",
    "      fig.legend(title=condition_names[-3]) \n",
    "    \n",
    "    # Check if we need multiple subplots/axes. Assign titles to each subplot if so.\n",
    "    if n_plots > 1:\n",
    "      title = f\"{condition_names[-4]} = {condition_values[-4][plot_idx]}\"\n",
    "      ax.set_title(title)   \n",
    "      \n",
    "    ax.set_xlabel(condition_names[-2])\n",
    "    ax.set_ylabel(condition_names[-1])\n",
    "  \n",
    "  return fig, axes\n",
    "  \n",
    "fig, axes = means_plot(target_values, label_dict)\n",
    "# fig.set_figheight(5)\n",
    "# fig.set_figwidth(10)\n",
    "fig.show()"
   ]
  },
  {
   "attachments": {},
   "cell_type": "markdown",
   "metadata": {},
   "source": [
    "## One last usage example without all of the function definitions:"
   ]
  },
  {
   "cell_type": "code",
   "execution_count": 12,
   "metadata": {},
   "outputs": [
    {
     "name": "stderr",
     "output_type": "stream",
     "text": [
      "/tmp/ipykernel_16290/3970606013.py:10: UserWarning: Matplotlib is currently using module://matplotlib_inline.backend_inline, which is a non-GUI backend, so cannot show the figure.\n",
      "  fig.show()\n"
     ]
    },
    {
     "data": {
      "image/png": "[encoded data removed]",
      "text/plain": [
       "<Figure size 576x288 with 2 Axes>"
      ]
     },
     "metadata": {
      "needs_background": "light"
     },
     "output_type": "display_data"
    }
   ],
   "source": [
    "data = pd.read_csv('./real_data.csv')\n",
    "data = preprocess(data)\n",
    "\n",
    "target_values, label_dict = aggregate(data, ['total_points', 'FP', 'correct', 'target_visibility'], ndarray=True)\n",
    "\n",
    "# Practically useless application of conversion functions.\n",
    "# Just wanted to show you can use these.\n",
    "df = ndarray_to_df(target_values, label_dict)\n",
    "target_values, label_dict = df_to_ndarray(df)\n",
    "\n",
    "fig, axes = means_plot(target_values, label_dict)\n",
    "fig.show()"
   ]
  }
 ],
 "metadata": {
  "kernelspec": {
   "display_name": "Python 3",
   "language": "python",
   "name": "python3"
  },
  "language_info": {
   "codemirror_mode": {
    "name": "ipython",
    "version": 3
   },
   "file_extension": ".py",
   "mimetype": "text/x-python",
   "name": "python",
   "nbconvert_exporter": "python",
   "pygments_lexer": "ipython3",
   "version": "3.8.10"
  },
  "orig_nbformat": 4,
  "vscode": {
   "interpreter": {
    "hash": "916dbcbb3f70747c44a77c7bcd40155683ae19c65e1c03b4aa3499c5328201f1"
   }
  }
 },
 "nbformat": 4,
 "nbformat_minor": 2
}
